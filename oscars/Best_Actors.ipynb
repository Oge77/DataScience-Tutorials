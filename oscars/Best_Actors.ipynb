{
 "cells": [
  {
   "cell_type": "code",
   "execution_count": 1,
   "metadata": {
    "collapsed": true
   },
   "outputs": [],
   "source": [
    "# Standard Imports\n",
    "import numpy as np\n",
    "import pandas as pd"
   ]
  },
  {
   "cell_type": "code",
   "execution_count": 2,
   "metadata": {
    "collapsed": true
   },
   "outputs": [],
   "source": [
    "# list of csv's with stored tweets\n",
    "file_path_list = []\n",
    "base = 'bestactor16_tweets_ba'\n",
    "extensions = ['', '2', '3', '4', '5', '6', '7', '8']\n",
    "def create_filepath(base, ext):\n",
    "    \"\"\"create the csv names of saved tweet text\n",
    "    \"\"\"\n",
    "    for e in ext:\n",
    "        file_path = base + e + '.csv'\n",
    "        file_path_list.append(file_path)\n",
    "    return file_path_list"
   ]
  },
  {
   "cell_type": "code",
   "execution_count": 3,
   "metadata": {
    "collapsed": false
   },
   "outputs": [
    {
     "data": {
      "text/plain": [
       "['bestactor16_tweets_ba.csv',\n",
       " 'bestactor16_tweets_ba2.csv',\n",
       " 'bestactor16_tweets_ba3.csv',\n",
       " 'bestactor16_tweets_ba4.csv',\n",
       " 'bestactor16_tweets_ba5.csv',\n",
       " 'bestactor16_tweets_ba6.csv',\n",
       " 'bestactor16_tweets_ba7.csv',\n",
       " 'bestactor16_tweets_ba8.csv']"
      ]
     },
     "execution_count": 3,
     "metadata": {},
     "output_type": "execute_result"
    }
   ],
   "source": [
    "file_path_list = []\n",
    "\n",
    "file_paths = create_filepath(base, extensions)\n",
    "file_paths"
   ]
  },
  {
   "cell_type": "code",
   "execution_count": 12,
   "metadata": {
    "collapsed": true
   },
   "outputs": [],
   "source": [
    "def combine_data_frames(filepaths):\n",
    "    \"\"\"Load saved csvs of tweets and combine into one dataframe\n",
    "    \"\"\"\n",
    "    df = None\n",
    "    for fp in filepaths:\n",
    "        if df is None:\n",
    "            df = pd.read_csv(fp)\n",
    "        else:\n",
    "            df_2 = pd.read_csv(fp)\n",
    "            df = df.append(df_2)\n",
    "    return df"
   ]
  },
  {
   "cell_type": "code",
   "execution_count": 13,
   "metadata": {
    "collapsed": true
   },
   "outputs": [],
   "source": [
    "df = combine_data_frames(file_paths)"
   ]
  },
  {
   "cell_type": "code",
   "execution_count": 14,
   "metadata": {
    "collapsed": false
   },
   "outputs": [
    {
     "data": {
      "text/plain": [
       "(25709, 3)"
      ]
     },
     "execution_count": 14,
     "metadata": {},
     "output_type": "execute_result"
    }
   ],
   "source": [
    "df.shape"
   ]
  },
  {
   "cell_type": "code",
   "execution_count": 15,
   "metadata": {
    "collapsed": false
   },
   "outputs": [
    {
     "data": {
      "text/html": [
       "<div>\n",
       "<table border=\"1\" class=\"dataframe\">\n",
       "  <thead>\n",
       "    <tr style=\"text-align: right;\">\n",
       "      <th></th>\n",
       "      <th>id</th>\n",
       "      <th>created_at</th>\n",
       "      <th>text</th>\n",
       "    </tr>\n",
       "  </thead>\n",
       "  <tbody>\n",
       "    <tr>\n",
       "      <th>0</th>\n",
       "      <td>692517124036624384</td>\n",
       "      <td>2016-01-28 01:18:43</td>\n",
       "      <td>RT @HayhayTV: Hi vongj anh Leonardo DiCaprio q...</td>\n",
       "    </tr>\n",
       "    <tr>\n",
       "      <th>1</th>\n",
       "      <td>692517122849796097</td>\n",
       "      <td>2016-01-28 01:18:43</td>\n",
       "      <td>RT @ClearsMaster: @MyDaniBoi AH NO LE LLEGAN A...</td>\n",
       "    </tr>\n",
       "    <tr>\n",
       "      <th>2</th>\n",
       "      <td>692517122531024897</td>\n",
       "      <td>2016-01-28 01:18:43</td>\n",
       "      <td>RT @Ricardocomun: @Ricardocomun: No les quiero...</td>\n",
       "    </tr>\n",
       "    <tr>\n",
       "      <th>3</th>\n",
       "      <td>692517122296127488</td>\n",
       "      <td>2016-01-28 01:18:42</td>\n",
       "      <td>RT @CarmenExpress: Someone please give Leonard...</td>\n",
       "    </tr>\n",
       "    <tr>\n",
       "      <th>4</th>\n",
       "      <td>692517122119839744</td>\n",
       "      <td>2016-01-28 01:18:42</td>\n",
       "      <td>RT @elhuevocr: The Oscars\\nNominated: \\nLeonar...</td>\n",
       "    </tr>\n",
       "  </tbody>\n",
       "</table>\n",
       "</div>"
      ],
      "text/plain": [
       "                   id           created_at  \\\n",
       "0  692517124036624384  2016-01-28 01:18:43   \n",
       "1  692517122849796097  2016-01-28 01:18:43   \n",
       "2  692517122531024897  2016-01-28 01:18:43   \n",
       "3  692517122296127488  2016-01-28 01:18:42   \n",
       "4  692517122119839744  2016-01-28 01:18:42   \n",
       "\n",
       "                                                text  \n",
       "0  RT @HayhayTV: Hi vongj anh Leonardo DiCaprio q...  \n",
       "1  RT @ClearsMaster: @MyDaniBoi AH NO LE LLEGAN A...  \n",
       "2  RT @Ricardocomun: @Ricardocomun: No les quiero...  \n",
       "3  RT @CarmenExpress: Someone please give Leonard...  \n",
       "4  RT @elhuevocr: The Oscars\\nNominated: \\nLeonar...  "
      ]
     },
     "execution_count": 15,
     "metadata": {},
     "output_type": "execute_result"
    }
   ],
   "source": [
    "df.head()"
   ]
  },
  {
   "cell_type": "code",
   "execution_count": 16,
   "metadata": {
    "collapsed": false
   },
   "outputs": [],
   "source": [
    "df.text = df.text.str.decode('utf-8')"
   ]
  },
  {
   "cell_type": "code",
   "execution_count": 17,
   "metadata": {
    "collapsed": true
   },
   "outputs": [],
   "source": [
    "# Try to do it all\n",
    "import re\n",
    "\n",
    "#start process_tweet\n",
    "def processTweet(tweet):\n",
    "    # process the tweets\n",
    "\n",
    "    #Convert to lower case\n",
    "    tweet = tweet.lower()\n",
    "    # Remove www.* or https://* to U\n",
    "    tweet = re.sub('((www\\.[^\\s]+)|(https?://[^\\s]+)|(https://[^\\s]+))','',tweet)\n",
    "    #Remove @User\n",
    "    tweet = re.sub('@[^\\s]+','',tweet)\n",
    "    #Remove additional white spaces\n",
    "    tweet = re.sub('[\\s]+', ' ', tweet)\n",
    "    #Replace #word with word\n",
    "    tweet = re.sub(r'#([^\\s]+)', r'\\1', tweet)\n",
    "    #trim\n",
    "    tweet = tweet.strip('\\'\"')\n",
    "    \n",
    "    return tweet\n",
    "\n",
    "def text_to_word(text): # pass in a df column\n",
    "    \n",
    "    tweet_text = [processTweet(x) for x in text]\n",
    "    \n",
    "    return tweet_text"
   ]
  },
  {
   "cell_type": "code",
   "execution_count": 18,
   "metadata": {
    "collapsed": false
   },
   "outputs": [],
   "source": [
    "ptweets = text_to_word(df.text)"
   ]
  },
  {
   "cell_type": "code",
   "execution_count": 19,
   "metadata": {
    "collapsed": false
   },
   "outputs": [
    {
     "data": {
      "text/plain": [
       "[u\"rt hi vongj anh leonardo dicaprio qua c\\u01a1n th\\xe1i c\\u1ef1c \\u0111\\u1ebfn h\\u1ed3i th\\xe1i lai :'( link: \",\n",
       " u'rt ah no le llegan a hacer eso a dicaprio y les prendo fuego donde sea que se entreguen los oscars (?',\n",
       " u'rt no les quiero arruinar el final de \"the revenant\" pero al final... dicaprio no se lleva el \\xf3scar :(',\n",
       " u'rt someone please give leonardo dicaprio an oscar already. oscar2016',\n",
       " u'rt the oscars nominated: leonardo dicaprio leonardo dicaprio leonardo dicaprio leonardo dicaprio winner: bb-8']"
      ]
     },
     "execution_count": 19,
     "metadata": {},
     "output_type": "execute_result"
    }
   ],
   "source": [
    "ptweets[:5]"
   ]
  },
  {
   "cell_type": "code",
   "execution_count": 21,
   "metadata": {
    "collapsed": true
   },
   "outputs": [],
   "source": [
    "# Let's try nltk Vade for some sentiment analysis\n",
    "from nltk.sentiment.vader import SentimentIntensityAnalyzer\n",
    "sid = SentimentIntensityAnalyzer()"
   ]
  },
  {
   "cell_type": "code",
   "execution_count": 22,
   "metadata": {
    "collapsed": false
   },
   "outputs": [],
   "source": [
    "pos_list = []\n",
    "# Get Vader positivity score on each tweet\n",
    "for p in ptweets:\n",
    "     ss = sid.polarity_scores(p)\n",
    "     pos_list.append(ss['pos'])"
   ]
  },
  {
   "cell_type": "code",
   "execution_count": 23,
   "metadata": {
    "collapsed": false
   },
   "outputs": [],
   "source": [
    "# Add Vader positivity scores as column in df\n",
    "df['positivity'] = pos_list"
   ]
  },
  {
   "cell_type": "code",
   "execution_count": 24,
   "metadata": {
    "collapsed": false
   },
   "outputs": [
    {
     "data": {
      "text/html": [
       "<div>\n",
       "<table border=\"1\" class=\"dataframe\">\n",
       "  <thead>\n",
       "    <tr style=\"text-align: right;\">\n",
       "      <th></th>\n",
       "      <th>id</th>\n",
       "      <th>created_at</th>\n",
       "      <th>text</th>\n",
       "      <th>positivity</th>\n",
       "    </tr>\n",
       "  </thead>\n",
       "  <tbody>\n",
       "    <tr>\n",
       "      <th>0</th>\n",
       "      <td>692517124036624384</td>\n",
       "      <td>2016-01-28 01:18:43</td>\n",
       "      <td>RT @HayhayTV: Hi vongj anh Leonardo DiCaprio q...</td>\n",
       "      <td>0.000</td>\n",
       "    </tr>\n",
       "    <tr>\n",
       "      <th>1</th>\n",
       "      <td>692517122849796097</td>\n",
       "      <td>2016-01-28 01:18:43</td>\n",
       "      <td>RT @ClearsMaster: @MyDaniBoi AH NO LE LLEGAN A...</td>\n",
       "      <td>0.000</td>\n",
       "    </tr>\n",
       "    <tr>\n",
       "      <th>2</th>\n",
       "      <td>692517122531024897</td>\n",
       "      <td>2016-01-28 01:18:43</td>\n",
       "      <td>RT @Ricardocomun: @Ricardocomun: No les quiero...</td>\n",
       "      <td>0.000</td>\n",
       "    </tr>\n",
       "    <tr>\n",
       "      <th>3</th>\n",
       "      <td>692517122296127488</td>\n",
       "      <td>2016-01-28 01:18:42</td>\n",
       "      <td>RT @CarmenExpress: Someone please give Leonard...</td>\n",
       "      <td>0.204</td>\n",
       "    </tr>\n",
       "    <tr>\n",
       "      <th>4</th>\n",
       "      <td>692517122119839744</td>\n",
       "      <td>2016-01-28 01:18:42</td>\n",
       "      <td>RT @elhuevocr: The Oscars\\nNominated: \\nLeonar...</td>\n",
       "      <td>0.226</td>\n",
       "    </tr>\n",
       "  </tbody>\n",
       "</table>\n",
       "</div>"
      ],
      "text/plain": [
       "                   id           created_at  \\\n",
       "0  692517124036624384  2016-01-28 01:18:43   \n",
       "1  692517122849796097  2016-01-28 01:18:43   \n",
       "2  692517122531024897  2016-01-28 01:18:43   \n",
       "3  692517122296127488  2016-01-28 01:18:42   \n",
       "4  692517122119839744  2016-01-28 01:18:42   \n",
       "\n",
       "                                                text  positivity  \n",
       "0  RT @HayhayTV: Hi vongj anh Leonardo DiCaprio q...       0.000  \n",
       "1  RT @ClearsMaster: @MyDaniBoi AH NO LE LLEGAN A...       0.000  \n",
       "2  RT @Ricardocomun: @Ricardocomun: No les quiero...       0.000  \n",
       "3  RT @CarmenExpress: Someone please give Leonard...       0.204  \n",
       "4  RT @elhuevocr: The Oscars\\nNominated: \\nLeonar...       0.226  "
      ]
     },
     "execution_count": 24,
     "metadata": {},
     "output_type": "execute_result"
    }
   ],
   "source": [
    "df.head()"
   ]
  },
  {
   "cell_type": "code",
   "execution_count": 25,
   "metadata": {
    "collapsed": true
   },
   "outputs": [],
   "source": [
    "sorted_df = df.sort('positivity', ascending=False)"
   ]
  },
  {
   "cell_type": "code",
   "execution_count": 26,
   "metadata": {
    "collapsed": false
   },
   "outputs": [
    {
     "data": {
      "text/html": [
       "<div>\n",
       "<table border=\"1\" class=\"dataframe\">\n",
       "  <thead>\n",
       "    <tr style=\"text-align: right;\">\n",
       "      <th></th>\n",
       "      <th>id</th>\n",
       "      <th>created_at</th>\n",
       "      <th>text</th>\n",
       "      <th>positivity</th>\n",
       "    </tr>\n",
       "  </thead>\n",
       "  <tbody>\n",
       "    <tr>\n",
       "      <th>2896</th>\n",
       "      <td>693569061947600898</td>\n",
       "      <td>2016-01-30 22:58:44</td>\n",
       "      <td>RT @ebruclawuz: https://t.co/2d3r8gXTtr  :D :D</td>\n",
       "      <td>0.868</td>\n",
       "    </tr>\n",
       "    <tr>\n",
       "      <th>113</th>\n",
       "      <td>693951575807623169</td>\n",
       "      <td>2016-02-01 00:18:43</td>\n",
       "      <td>RT @dgoldenbergscot: Great https://t.co/RxvHtC...</td>\n",
       "      <td>0.804</td>\n",
       "    </tr>\n",
       "    <tr>\n",
       "      <th>2412</th>\n",
       "      <td>697221874598723584</td>\n",
       "      <td>2016-02-10 00:53:43</td>\n",
       "      <td>RT @anamaaee: Love wins 😏😬 https://t.co/So9Z...</td>\n",
       "      <td>0.798</td>\n",
       "    </tr>\n",
       "    <tr>\n",
       "      <th>2748</th>\n",
       "      <td>693075806449487874</td>\n",
       "      <td>2016-01-29 14:18:43</td>\n",
       "      <td>RT @WadihAnton: Genial!\\nhttps://t.co/z7ambxgDUq</td>\n",
       "      <td>0.756</td>\n",
       "    </tr>\n",
       "    <tr>\n",
       "      <th>405</th>\n",
       "      <td>697496186312380416</td>\n",
       "      <td>2016-02-10 19:03:44</td>\n",
       "      <td>RT @aishaalfa: leodicaprioofficial loves a goo...</td>\n",
       "      <td>0.745</td>\n",
       "    </tr>\n",
       "  </tbody>\n",
       "</table>\n",
       "</div>"
      ],
      "text/plain": [
       "                      id           created_at  \\\n",
       "2896  693569061947600898  2016-01-30 22:58:44   \n",
       "113   693951575807623169  2016-02-01 00:18:43   \n",
       "2412  697221874598723584  2016-02-10 00:53:43   \n",
       "2748  693075806449487874  2016-01-29 14:18:43   \n",
       "405   697496186312380416  2016-02-10 19:03:44   \n",
       "\n",
       "                                                   text  positivity  \n",
       "2896     RT @ebruclawuz: https://t.co/2d3r8gXTtr  :D :D       0.868  \n",
       "113   RT @dgoldenbergscot: Great https://t.co/RxvHtC...       0.804  \n",
       "2412  RT @anamaaee: Love wins 😏😬 https://t.co/So9Z...       0.798  \n",
       "2748   RT @WadihAnton: Genial!\\nhttps://t.co/z7ambxgDUq       0.756  \n",
       "405   RT @aishaalfa: leodicaprioofficial loves a goo...       0.745  "
      ]
     },
     "execution_count": 26,
     "metadata": {},
     "output_type": "execute_result"
    }
   ],
   "source": [
    "sorted_df.head()"
   ]
  },
  {
   "cell_type": "code",
   "execution_count": 27,
   "metadata": {
    "collapsed": true
   },
   "outputs": [],
   "source": [
    "top_twenty = sorted_df['text'][:20]"
   ]
  },
  {
   "cell_type": "code",
   "execution_count": 28,
   "metadata": {
    "collapsed": false
   },
   "outputs": [
    {
     "name": "stdout",
     "output_type": "stream",
     "text": [
      "RT @ebruclawuz: https://t.co/2d3r8gXTtr  :D :D\n",
      "RT @dgoldenbergscot: Great https://t.co/RxvHtC0loT\n",
      "RT @anamaaee: Love wins 😏😬 https://t.co/So9Z4W8VhF\n",
      "RT @WadihAnton: Genial!\n",
      "https://t.co/z7ambxgDUq\n",
      "RT @aishaalfa: leodicaprioofficial loves a good giggle! #jokes #Oscars #Leo https://t.co/yr0dxZwMXr\n",
      "RT @LoserLane: The Revenant was amazing. Definitely Oscar award winning worthy Leo.\n",
      "RT @jessicaluvtech: SAG Awards winner @LeoDiCaprio celebrates with hug from #KateWinslet https://t.co/hCgEUamlUO\n",
      "RT @jusboymusic: Thanks #TopNewFollowers @Bob_Oscar @Gabrielle_Faust @C_E_Lawrence Happy to connect :)\n",
      "RT @JLawDerpel: Don't hate me, but I hope Brie Larson wins best actress at the Oscars. Room was amazing. I hope that movie wins many awards.\n",
      "RT @leo_tgtbt: @eddieh1114 @YahBoyCourage @Twinky_2012 oscar for sure lmao\n",
      "RT @alouise_xox: hope Leo wins the best male leading actor Oscar award\n",
      "RT @AdiWriter: So, yeah, I'm completely at peace if Hardy sweeps Best Supporting Oscar.\n",
      "RT @MarianaR: @SashaReuther I hope Stallone win the Oscar!!!\n",
      "RT @Finding_Mojo: Definitely worthy of an Oscar, Leo. Amazing.\n",
      "RT @Scylla__: Leo + The Revenant = Oscar\n",
      "#TheRevenant \n",
      "#Amazing\n",
      "#Fantastic\n",
      "#Beautiful\n",
      "#Great \n",
      "Bravo Leo, bravo!!!!\n",
      "RT @LanaAqilah: @Adamantiumm but for real i hope tom hardy wins an oscar\n",
      "RT @tasto7: @C_Rampling happy birthday! \n",
      "Hoping you can win Oscar 🎈🍀🌸\n",
      "RT @b724a0e6c1764fa: @PamelaDayM @THR I hope Leo wins the Oscar!\n",
      "RT @KaskusAHAY: SAG Awards winner Leonardo DiCaprio celebrates with hug from Kate Winslet https://t.co/ZKuKIasQvx @rarasathie_\n",
      "RT @MuhammadGenta_S: SAG Awards winner Leonardo DiCaprio celebrates with hug from Kate Winslet https://t.co/yBihRY1N9A\n"
     ]
    }
   ],
   "source": [
    "for tt in top_twenty:\n",
    "    print tt"
   ]
  },
  {
   "cell_type": "code",
   "execution_count": 129,
   "metadata": {
    "collapsed": true
   },
   "outputs": [],
   "source": [
    "# Try to do counts of each actor in a category"
   ]
  },
  {
   "cell_type": "code",
   "execution_count": 29,
   "metadata": {
    "collapsed": true
   },
   "outputs": [],
   "source": [
    "def label_nom_ba(row):\n",
    "    \"\"\"Determine if one of the best actor nominees is mentioned in a given tweet\"\"\"\n",
    "    if 'Redmayne' in row.text:\n",
    "       return 'Redmayne'\n",
    "    if 'Damon' in row.text:\n",
    "       return 'Damon'\n",
    "    if 'Cranston' in row.text:\n",
    "       return 'Cranston'\n",
    "    if 'Fassbender' in row.text:\n",
    "       return 'Fassbender'\n",
    "    if 'Leo' in row.text:\n",
    "       return 'Leo' \n",
    "    else:\n",
    "       return 'None'"
   ]
  },
  {
   "cell_type": "code",
   "execution_count": 30,
   "metadata": {
    "collapsed": true
   },
   "outputs": [],
   "source": [
    "def label_nom_bas(row):\n",
    "    \"\"\"Determine if one of the best actress nominees is mentioned in a given tweet\"\"\"\n",
    "    if 'Rampling' in row.text:\n",
    "       return 'Rampling'\n",
    "    if 'Blanchett' in row.text:\n",
    "       return 'Blanchett'\n",
    "    if 'Lawrence' in row.text:\n",
    "       return 'Lawrence'\n",
    "    if 'Ronan' in row.text:\n",
    "       return 'Ronan'\n",
    "    if 'Larson' in row.text:\n",
    "       return 'Larson' \n",
    "    else:\n",
    "       return 'None'"
   ]
  },
  {
   "cell_type": "code",
   "execution_count": 31,
   "metadata": {
    "collapsed": true
   },
   "outputs": [],
   "source": [
    "def label_nom_bsa(row):\n",
    "    \"\"\"Determine if one of the best supporting actor nominees is mentioned in a given tweet\"\"\"\n",
    "    if 'Ruffalo' in row.text:\n",
    "       return 'Ruffalo'\n",
    "    if 'Hardy' in row.text:\n",
    "       return 'Hardy'\n",
    "    if 'Bale' in row.text:\n",
    "       return 'Bale'\n",
    "    if 'Rylance' in row.text:\n",
    "       return 'Rylance'\n",
    "    if 'Stallone' in row.text:\n",
    "       return 'Stallone' \n",
    "    else:\n",
    "       return 'None'"
   ]
  },
  {
   "cell_type": "code",
   "execution_count": 32,
   "metadata": {
    "collapsed": true
   },
   "outputs": [],
   "source": [
    "def label_nom_bsas(row):\n",
    "    \"\"\"Determine if one of the best supporting actress nominees is mentioned in a given tweet\"\"\"\n",
    "    if 'McAdams' in row.text:\n",
    "       return 'McAdams'\n",
    "    if 'Leigh' in row.text:\n",
    "       return 'Leigh'\n",
    "    if 'Winslet' in row.text:\n",
    "       return 'Winslet'\n",
    "    if 'Mara' in row.text:\n",
    "       return 'Mara'\n",
    "    if 'Vikander' in row.text:\n",
    "       return 'Vikander' \n",
    "    else:\n",
    "       return 'None'"
   ]
  },
  {
   "cell_type": "code",
   "execution_count": 33,
   "metadata": {
    "collapsed": false
   },
   "outputs": [],
   "source": [
    "df['nom_mention_ba'] = df.apply(lambda row: label_nom_ba(row),axis=1)\n",
    "df['nom_mention_bas'] = df.apply(lambda row: label_nom_bas(row),axis=1)\n",
    "df['nom_mention_bsa'] = df.apply(lambda row: label_nom_bsa(row),axis=1)\n",
    "df['nom_mention_bsas'] = df.apply(lambda row: label_nom_bsas(row),axis=1)"
   ]
  },
  {
   "cell_type": "code",
   "execution_count": 34,
   "metadata": {
    "collapsed": false
   },
   "outputs": [
    {
     "data": {
      "text/html": [
       "<div>\n",
       "<table border=\"1\" class=\"dataframe\">\n",
       "  <thead>\n",
       "    <tr style=\"text-align: right;\">\n",
       "      <th></th>\n",
       "      <th>id</th>\n",
       "      <th>created_at</th>\n",
       "      <th>text</th>\n",
       "      <th>positivity</th>\n",
       "      <th>nom_mention_ba</th>\n",
       "      <th>nom_mention_bas</th>\n",
       "      <th>nom_mention_bsa</th>\n",
       "      <th>nom_mention_bsas</th>\n",
       "    </tr>\n",
       "  </thead>\n",
       "  <tbody>\n",
       "    <tr>\n",
       "      <th>0</th>\n",
       "      <td>692517124036624384</td>\n",
       "      <td>2016-01-28 01:18:43</td>\n",
       "      <td>RT @HayhayTV: Hi vongj anh Leonardo DiCaprio q...</td>\n",
       "      <td>0.000</td>\n",
       "      <td>Leo</td>\n",
       "      <td>None</td>\n",
       "      <td>None</td>\n",
       "      <td>None</td>\n",
       "    </tr>\n",
       "    <tr>\n",
       "      <th>1</th>\n",
       "      <td>692517122849796097</td>\n",
       "      <td>2016-01-28 01:18:43</td>\n",
       "      <td>RT @ClearsMaster: @MyDaniBoi AH NO LE LLEGAN A...</td>\n",
       "      <td>0.000</td>\n",
       "      <td>None</td>\n",
       "      <td>None</td>\n",
       "      <td>None</td>\n",
       "      <td>None</td>\n",
       "    </tr>\n",
       "    <tr>\n",
       "      <th>2</th>\n",
       "      <td>692517122531024897</td>\n",
       "      <td>2016-01-28 01:18:43</td>\n",
       "      <td>RT @Ricardocomun: @Ricardocomun: No les quiero...</td>\n",
       "      <td>0.000</td>\n",
       "      <td>None</td>\n",
       "      <td>None</td>\n",
       "      <td>None</td>\n",
       "      <td>None</td>\n",
       "    </tr>\n",
       "    <tr>\n",
       "      <th>3</th>\n",
       "      <td>692517122296127488</td>\n",
       "      <td>2016-01-28 01:18:42</td>\n",
       "      <td>RT @CarmenExpress: Someone please give Leonard...</td>\n",
       "      <td>0.204</td>\n",
       "      <td>Leo</td>\n",
       "      <td>None</td>\n",
       "      <td>None</td>\n",
       "      <td>None</td>\n",
       "    </tr>\n",
       "    <tr>\n",
       "      <th>4</th>\n",
       "      <td>692517122119839744</td>\n",
       "      <td>2016-01-28 01:18:42</td>\n",
       "      <td>RT @elhuevocr: The Oscars\\nNominated: \\nLeonar...</td>\n",
       "      <td>0.226</td>\n",
       "      <td>Leo</td>\n",
       "      <td>None</td>\n",
       "      <td>None</td>\n",
       "      <td>None</td>\n",
       "    </tr>\n",
       "  </tbody>\n",
       "</table>\n",
       "</div>"
      ],
      "text/plain": [
       "                   id           created_at  \\\n",
       "0  692517124036624384  2016-01-28 01:18:43   \n",
       "1  692517122849796097  2016-01-28 01:18:43   \n",
       "2  692517122531024897  2016-01-28 01:18:43   \n",
       "3  692517122296127488  2016-01-28 01:18:42   \n",
       "4  692517122119839744  2016-01-28 01:18:42   \n",
       "\n",
       "                                                text  positivity  \\\n",
       "0  RT @HayhayTV: Hi vongj anh Leonardo DiCaprio q...       0.000   \n",
       "1  RT @ClearsMaster: @MyDaniBoi AH NO LE LLEGAN A...       0.000   \n",
       "2  RT @Ricardocomun: @Ricardocomun: No les quiero...       0.000   \n",
       "3  RT @CarmenExpress: Someone please give Leonard...       0.204   \n",
       "4  RT @elhuevocr: The Oscars\\nNominated: \\nLeonar...       0.226   \n",
       "\n",
       "  nom_mention_ba nom_mention_bas nom_mention_bsa nom_mention_bsas  \n",
       "0            Leo            None            None             None  \n",
       "1           None            None            None             None  \n",
       "2           None            None            None             None  \n",
       "3            Leo            None            None             None  \n",
       "4            Leo            None            None             None  "
      ]
     },
     "execution_count": 34,
     "metadata": {},
     "output_type": "execute_result"
    }
   ],
   "source": [
    "df.head()"
   ]
  },
  {
   "cell_type": "code",
   "execution_count": 35,
   "metadata": {
    "collapsed": true
   },
   "outputs": [],
   "source": [
    "df_agg_ba = df.groupby('nom_mention_ba').positivity.sum()"
   ]
  },
  {
   "cell_type": "code",
   "execution_count": 37,
   "metadata": {
    "collapsed": false
   },
   "outputs": [
    {
     "data": {
      "text/plain": [
       "nom_mention_ba\n",
       "Cranston       13.132\n",
       "Damon          41.277\n",
       "Fassbender     16.735\n",
       "Leo           893.258\n",
       "None          981.061\n",
       "Redmayne       45.764\n",
       "Name: positivity, dtype: float64"
      ]
     },
     "execution_count": 37,
     "metadata": {},
     "output_type": "execute_result"
    }
   ],
   "source": [
    "df_agg_ba"
   ]
  },
  {
   "cell_type": "code",
   "execution_count": 38,
   "metadata": {
    "collapsed": false
   },
   "outputs": [
    {
     "data": {
      "text/plain": [
       "nom_mention_bas\n",
       "Blanchett      24.758\n",
       "Larson         77.437\n",
       "Lawrence       77.908\n",
       "None         1748.045\n",
       "Rampling       46.817\n",
       "Ronan          16.262\n",
       "Name: positivity, dtype: float64"
      ]
     },
     "execution_count": 38,
     "metadata": {},
     "output_type": "execute_result"
    }
   ],
   "source": [
    "df_agg_bas = df.groupby('nom_mention_bas').positivity.sum()\n",
    "df_agg_bas"
   ]
  },
  {
   "cell_type": "code",
   "execution_count": 39,
   "metadata": {
    "collapsed": false
   },
   "outputs": [
    {
     "data": {
      "text/plain": [
       "nom_mention_bsa\n",
       "Bale          15.213\n",
       "Hardy        143.438\n",
       "None        1688.345\n",
       "Ruffalo       52.532\n",
       "Rylance        7.915\n",
       "Stallone      83.784\n",
       "Name: positivity, dtype: float64"
      ]
     },
     "execution_count": 39,
     "metadata": {},
     "output_type": "execute_result"
    }
   ],
   "source": [
    "df_agg_bsa = df.groupby('nom_mention_bsa').positivity.sum()\n",
    "df_agg_bsa"
   ]
  },
  {
   "cell_type": "code",
   "execution_count": 40,
   "metadata": {
    "collapsed": false
   },
   "outputs": [
    {
     "data": {
      "text/plain": [
       "nom_mention_bsas\n",
       "Leigh         13.476\n",
       "Mara          21.332\n",
       "McAdams       23.142\n",
       "None        1797.880\n",
       "Vikander      60.644\n",
       "Winslet       74.753\n",
       "Name: positivity, dtype: float64"
      ]
     },
     "execution_count": 40,
     "metadata": {},
     "output_type": "execute_result"
    }
   ],
   "source": [
    "df_agg_bsas = df.groupby('nom_mention_bsas').positivity.sum()\n",
    "df_agg_bsas"
   ]
  },
  {
   "cell_type": "code",
   "execution_count": 51,
   "metadata": {
    "collapsed": false
   },
   "outputs": [],
   "source": [
    "#from __future__ import division\n",
    "def find_percents(pos_scores):\n",
    "    \"\"\"Takes raw totals of tweet mentions and finds the proportion\n",
    "    \"\"\"\n",
    "    percents = []\n",
    "    total = 0\n",
    "    for p in pos_scores:\n",
    "        total += p\n",
    "    for p in pos_scores:\n",
    "        percents.append(float(p/total))\n",
    "        \n",
    "    return percents"
   ]
  },
  {
   "cell_type": "code",
   "execution_count": 46,
   "metadata": {
    "collapsed": false
   },
   "outputs": [],
   "source": [
    "pos_values_ba = []\n",
    "ba_noms = ['Leo', 'Redmayne', 'Damon', 'Fassbender', 'Cranston']\n",
    "for n in ba_noms:\n",
    "    pos_values_ba.append(df_agg_ba[n])"
   ]
  },
  {
   "cell_type": "code",
   "execution_count": 54,
   "metadata": {
    "collapsed": true
   },
   "outputs": [],
   "source": [
    "pos_values_bas = []\n",
    "bas_noms = ['Blanchett', 'Larson', 'Lawrence', 'Ronan', 'Rampling']\n",
    "for n in bas_noms:\n",
    "    pos_values_bas.append(df_agg_bas[n])"
   ]
  },
  {
   "cell_type": "code",
   "execution_count": 58,
   "metadata": {
    "collapsed": true
   },
   "outputs": [],
   "source": [
    "pos_values_bsa = []\n",
    "bsa_noms = ['Hardy', 'Bale', 'Ruffalo', 'Rylance', 'Stallone']\n",
    "for n in bsa_noms:\n",
    "    pos_values_bsa.append(df_agg_bsa[n])"
   ]
  },
  {
   "cell_type": "code",
   "execution_count": 60,
   "metadata": {
    "collapsed": true
   },
   "outputs": [],
   "source": [
    "pos_values_bsas = []\n",
    "bsas_noms = ['Leigh', 'McAdams', 'Mara', 'Vikander', 'Winslet']\n",
    "for n in bsas_noms:\n",
    "    pos_values_bsas.append(df_agg_bsas[n])"
   ]
  },
  {
   "cell_type": "code",
   "execution_count": 55,
   "metadata": {
    "collapsed": false
   },
   "outputs": [
    {
     "data": {
      "text/plain": [
       "[0.8842685261630262,\n",
       " 0.045303445176337546,\n",
       " 0.04086160096459413,\n",
       " 0.016566584105978683,\n",
       " 0.012999843590063466]"
      ]
     },
     "execution_count": 55,
     "metadata": {},
     "output_type": "execute_result"
    }
   ],
   "source": [
    "# Best actor chance of winning\n",
    "percents_ba = find_percents(pos_values_ba)\n",
    "percents_ba"
   ]
  },
  {
   "cell_type": "code",
   "execution_count": 56,
   "metadata": {
    "collapsed": false
   },
   "outputs": [
    {
     "data": {
      "text/plain": [
       "[0.10180852201231995,\n",
       " 0.3184322852842726,\n",
       " 0.32036910626608894,\n",
       " 0.06687172570338262,\n",
       " 0.19251836073393586]"
      ]
     },
     "execution_count": 56,
     "metadata": {},
     "output_type": "execute_result"
    }
   ],
   "source": [
    "# Best actress chance of winning\n",
    "percents_bas = find_percents(pos_values_bas)\n",
    "percents_bas"
   ]
  },
  {
   "cell_type": "code",
   "execution_count": 59,
   "metadata": {
    "collapsed": false
   },
   "outputs": [
    {
     "data": {
      "text/plain": [
       "[0.473577168666345,\n",
       " 0.05022748132936264,\n",
       " 0.1734404817717792,\n",
       " 0.02613228914230627,\n",
       " 0.2766225790902069]"
      ]
     },
     "execution_count": 59,
     "metadata": {},
     "output_type": "execute_result"
    }
   ],
   "source": [
    "# Best supporting actor chance of winning\n",
    "percents_bsa = find_percents(pos_values_bsa)\n",
    "percents_bsa"
   ]
  },
  {
   "cell_type": "code",
   "execution_count": 61,
   "metadata": {
    "collapsed": false
   },
   "outputs": [
    {
     "data": {
      "text/plain": [
       "[0.06969852131142448,\n",
       " 0.11969153904637762,\n",
       " 0.11033013183550809,\n",
       " 0.31365368999777604,\n",
       " 0.3866261178089138]"
      ]
     },
     "execution_count": 61,
     "metadata": {},
     "output_type": "execute_result"
    }
   ],
   "source": [
    "# Best supporting actress chance of winning\n",
    "percents_bsas = find_percents(pos_values_bsas)\n",
    "percents_bsas"
   ]
  },
  {
   "cell_type": "code",
   "execution_count": 67,
   "metadata": {
    "collapsed": true
   },
   "outputs": [],
   "source": [
    "import matplotlib.pyplot as plt\n",
    "%matplotlib inline\n",
    "import seaborn as sb"
   ]
  },
  {
   "cell_type": "code",
   "execution_count": 80,
   "metadata": {
    "collapsed": false
   },
   "outputs": [
    {
     "data": {
      "image/png": "[encoded data removed]",
      "text/plain": [
       "<matplotlib.figure.Figure at 0x115dc8090>"
      ]
     },
     "metadata": {},
     "output_type": "display_data"
    }
   ],
   "source": [
    "# Make plot of best actor results\n",
    "N = 5\n",
    "ind = np.arange(N)  # the x locations for the groups\n",
    "width = 0.35       # the width of the bars\n",
    "\n",
    "fig, ax = plt.subplots()\n",
    "rects1 = ax.bar(ind, percents_ba, width, color='r')\n",
    "\n",
    "# add some text for labels, title and axes ticks\n",
    "ax.set_ylabel('Chance of winning')\n",
    "ax.set_title('Predictions for Best Actor Race')\n",
    "ax.set_xticks(ind + width - .15)\n",
    "ax.set_xticklabels(('Leo', 'Redmayne', 'Damon', 'Fassbender', 'Cranston'))\n",
    "ax.set_ylim(0,1)\n",
    "\n",
    "def autolabel(rects):\n",
    "    # attach some text labels\n",
    "    for rect in rects:\n",
    "        height = rect.get_height()\n",
    "        ax.text(rect.get_x() + rect.get_width()/2., 1.02*height,\n",
    "                '%.2f' % float(height*100),\n",
    "                ha='center', va='bottom')\n",
    "\n",
    "autolabel(rects1)\n"
   ]
  },
  {
   "cell_type": "code",
   "execution_count": 76,
   "metadata": {
    "collapsed": true
   },
   "outputs": [],
   "source": []
  }
 ],
 "metadata": {
  "kernelspec": {
   "display_name": "Python 2",
   "language": "python",
   "name": "python2"
  },
  "language_info": {
   "codemirror_mode": {
    "name": "ipython",
    "version": 2
   },
   "file_extension": ".py",
   "mimetype": "text/x-python",
   "name": "python",
   "nbconvert_exporter": "python",
   "pygments_lexer": "ipython2",
   "version": "2.7.10"
  }
 },
 "nbformat": 4,
 "nbformat_minor": 0
}
