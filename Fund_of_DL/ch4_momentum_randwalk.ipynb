{
 "cells": [
  {
   "cell_type": "code",
   "execution_count": 4,
   "metadata": {
    "collapsed": false
   },
   "outputs": [],
   "source": [
    "import random"
   ]
  },
  {
   "cell_type": "code",
   "execution_count": 7,
   "metadata": {
    "collapsed": true
   },
   "outputs": [],
   "source": [
    "step_range = 10\n",
    "step_choices = range(-1 * step_range, step_range+1)\n",
    "\n",
    "rand_walk = [random.choice(step_choices) for x in xrange(100)]"
   ]
  },
  {
   "cell_type": "code",
   "execution_count": 8,
   "metadata": {
    "collapsed": false
   },
   "outputs": [
    {
     "data": {
      "text/plain": [
       "[-10, -9, -8, -7, -6, -5, -4, -3, -2, -1, 0, 1, 2, 3, 4, 5, 6, 7, 8, 9, 10]"
      ]
     },
     "execution_count": 8,
     "metadata": {},
     "output_type": "execute_result"
    }
   ],
   "source": [
    "step_choices"
   ]
  },
  {
   "cell_type": "code",
   "execution_count": 9,
   "metadata": {
    "collapsed": false
   },
   "outputs": [
    {
     "data": {
      "text/plain": [
       "[-5,\n",
       " -5,\n",
       " 2,\n",
       " -1,\n",
       " 6,\n",
       " -1,\n",
       " -2,\n",
       " 3,\n",
       " 7,\n",
       " -8,\n",
       " -6,\n",
       " 2,\n",
       " -8,\n",
       " -5,\n",
       " -3,\n",
       " 2,\n",
       " -8,\n",
       " 8,\n",
       " 7,\n",
       " -5,\n",
       " 0,\n",
       " 6,\n",
       " -2,\n",
       " -9,\n",
       " -9,\n",
       " 4,\n",
       " 4,\n",
       " -1,\n",
       " -1,\n",
       " 4,\n",
       " 6,\n",
       " 3,\n",
       " -10,\n",
       " 1,\n",
       " 0,\n",
       " -1,\n",
       " 5,\n",
       " 3,\n",
       " -6,\n",
       " 4,\n",
       " 4,\n",
       " 10,\n",
       " 0,\n",
       " -6,\n",
       " 1,\n",
       " -8,\n",
       " -4,\n",
       " -3,\n",
       " 6,\n",
       " 3,\n",
       " -6,\n",
       " -8,\n",
       " 9,\n",
       " 7,\n",
       " 5,\n",
       " 3,\n",
       " -6,\n",
       " 7,\n",
       " 9,\n",
       " 5,\n",
       " -9,\n",
       " -7,\n",
       " -8,\n",
       " 8,\n",
       " 6,\n",
       " -6,\n",
       " -1,\n",
       " 3,\n",
       " -6,\n",
       " 2,\n",
       " 1,\n",
       " -4,\n",
       " 9,\n",
       " -7,\n",
       " -8,\n",
       " -9,\n",
       " -10,\n",
       " -7,\n",
       " 0,\n",
       " -1,\n",
       " 1,\n",
       " 6,\n",
       " -6,\n",
       " 4,\n",
       " -3,\n",
       " 7,\n",
       " 0,\n",
       " -4,\n",
       " -2,\n",
       " 7,\n",
       " -3,\n",
       " 0,\n",
       " -4,\n",
       " 5,\n",
       " -8,\n",
       " 10,\n",
       " 5,\n",
       " 6,\n",
       " -9,\n",
       " -5]"
      ]
     },
     "execution_count": 9,
     "metadata": {},
     "output_type": "execute_result"
    }
   ],
   "source": [
    "rand_walk"
   ]
  },
  {
   "cell_type": "code",
   "execution_count": 12,
   "metadata": {
    "collapsed": false
   },
   "outputs": [],
   "source": [
    "momentum = 0.5\n",
    "momentum_rand_walk = [random.choice(step_choices)]\n",
    "for i in xrange(len(rand_walk) - 1):\n",
    "    prev = momentum_rand_walk[-1]\n",
    "    rand_choice = random.choice(step_choices)\n",
    "    new_step = momentum * prev + (1 - momentum) * rand_choice\n",
    "    momentum_rand_walk.append(new_step)"
   ]
  },
  {
   "cell_type": "code",
   "execution_count": 13,
   "metadata": {
    "collapsed": false
   },
   "outputs": [
    {
     "data": {
      "text/plain": [
       "[-9,\n",
       " -2.5,\n",
       " -3.25,\n",
       " -3.625,\n",
       " 0.1875,\n",
       " -3.40625,\n",
       " -1.703125,\n",
       " -1.3515625,\n",
       " 2.32421875,\n",
       " 0.162109375,\n",
       " -3.9189453125,\n",
       " -2.95947265625,\n",
       " -1.479736328125,\n",
       " -4.7398681640625,\n",
       " 1.63006591796875,\n",
       " 2.315032958984375,\n",
       " -1.3424835205078125,\n",
       " 0.32875823974609375,\n",
       " 1.1643791198730469,\n",
       " 4.082189559936523,\n",
       " 4.041094779968262,\n",
       " 3.520547389984131,\n",
       " 1.7602736949920654,\n",
       " -0.11986315250396729,\n",
       " 2.4400684237480164,\n",
       " -0.7799657881259918,\n",
       " 4.110017105937004,\n",
       " -1.944991447031498,\n",
       " -5.972495723515749,\n",
       " -7.9862478617578745,\n",
       " -1.4931239308789372,\n",
       " -3.7465619654394686,\n",
       " 2.6267190172802657,\n",
       " 2.313359508640133,\n",
       " -1.3433202456799336,\n",
       " 1.8283398771600332,\n",
       " -0.5858300614199834,\n",
       " -3.2929150307099917,\n",
       " 2.853542484645004,\n",
       " -3.073228757677498,\n",
       " -4.536614378838749,\n",
       " 1.7316928105806255,\n",
       " 1.8658464052903128,\n",
       " 5.932923202645156,\n",
       " 3.466461601322578,\n",
       " 5.233230800661289,\n",
       " 5.1166154003306445,\n",
       " 1.0583077001653223,\n",
       " 4.029153850082661,\n",
       " 2.0145769250413306,\n",
       " -0.4927115374793347,\n",
       " -2.2463557687396674,\n",
       " -5.1231778843698335,\n",
       " -6.561588942184917,\n",
       " 1.2192055289075414,\n",
       " 5.10960276445377,\n",
       " 6.054801382226885,\n",
       " 7.527400691113442,\n",
       " 7.763700345556721,\n",
       " 6.3818501727783605,\n",
       " 1.6909250863891803,\n",
       " -3.15453745680541,\n",
       " 1.422731271597295,\n",
       " -0.28863436420135247,\n",
       " 1.3556828178993237,\n",
       " 3.1778414089496616,\n",
       " 0.0889207044748308,\n",
       " -4.955539647762585,\n",
       " 2.0222301761187076,\n",
       " -3.488884911940646,\n",
       " -2.744442455970323,\n",
       " -4.872221227985161,\n",
       " -5.9361106139925806,\n",
       " -0.9680553069962903,\n",
       " 0.01597234650185486,\n",
       " 0.5079861732509274,\n",
       " -4.246006913374536,\n",
       " -0.1230034566872682,\n",
       " -1.561501728343634,\n",
       " -0.28075086417181705,\n",
       " 0.8596245679140915,\n",
       " 3.9298122839570455,\n",
       " 6.464906141978522,\n",
       " 8.232453070989262,\n",
       " 8.116226535494631,\n",
       " 9.058113267747316,\n",
       " 4.029056633873658,\n",
       " -0.9854716830631709,\n",
       " 3.0072641584684145,\n",
       " 0.003632079234207275,\n",
       " -4.498183960382896,\n",
       " -7.249091980191448,\n",
       " -7.124545990095724,\n",
       " -4.562272995047862,\n",
       " -3.781136497523931,\n",
       " 2.6094317512380343,\n",
       " -2.695284124380983,\n",
       " 0.6523579378095086,\n",
       " 2.8261789689047543,\n",
       " -2.586910515547623]"
      ]
     },
     "execution_count": 13,
     "metadata": {},
     "output_type": "execute_result"
    }
   ],
   "source": [
    "momentum_rand_walk"
   ]
  },
  {
   "cell_type": "code",
   "execution_count": 17,
   "metadata": {
    "collapsed": true
   },
   "outputs": [],
   "source": [
    "import matplotlib.pyplot as plt\n",
    "%matplotlib inline"
   ]
  },
  {
   "cell_type": "code",
   "execution_count": 19,
   "metadata": {
    "collapsed": false
   },
   "outputs": [
    {
     "data": {
      "image/png": "[encoded data removed]",
      "text/plain": [
       "<matplotlib.figure.Figure at 0x117579a50>"
      ]
     },
     "metadata": {},
     "output_type": "display_data"
    }
   ],
   "source": [
    "plt.plot(xrange(100),momentum_rand_walk)\n",
    "plt.title(\"Momentum = 0.5\")\n",
    "plt.show()"
   ]
  },
  {
   "cell_type": "code",
   "execution_count": null,
   "metadata": {
    "collapsed": true
   },
   "outputs": [],
   "source": []
  }
 ],
 "metadata": {
  "kernelspec": {
   "display_name": "Python 2",
   "language": "python",
   "name": "python2"
  },
  "language_info": {
   "codemirror_mode": {
    "name": "ipython",
    "version": 2
   },
   "file_extension": ".py",
   "mimetype": "text/x-python",
   "name": "python",
   "nbconvert_exporter": "python",
   "pygments_lexer": "ipython2",
   "version": "2.7.10"
  }
 },
 "nbformat": 4,
 "nbformat_minor": 0
}
