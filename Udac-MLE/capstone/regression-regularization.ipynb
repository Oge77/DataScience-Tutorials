{
 "cells": [
  {
   "cell_type": "code",
   "execution_count": 1,
   "metadata": {
    "collapsed": true
   },
   "outputs": [],
   "source": [
    "# standard imports\n",
    "import numpy as np\n",
    "import pandas as pd\n",
    "import matplotlib.pyplot as plt\n",
    "%matplotlib inline\n",
    "import seaborn as sns\n",
    "# Additional imports\n",
    "from sklearn import metrics\n",
    "from sklearn.linear_model import Ridge\n",
    "from sklearn.linear_model import LinearRegression\n",
    "from sklearn.linear_model import Lasso\n",
    "from sklearn.linear_model import ElasticNet\n",
    "from sklearn.cross_validation import train_test_split\n",
    "import time"
   ]
  },
  {
   "cell_type": "code",
   "execution_count": 2,
   "metadata": {
    "collapsed": true
   },
   "outputs": [],
   "source": [
    "def load_df(df_file):\n",
    "    # function to load csv files from data folder into DataFrame\n",
    "    basepath = 'data/'\n",
    "    filepath = basepath + df_file\n",
    "    load_df = pd.DataFrame.from_csv(filepath)\n",
    "    return load_df"
   ]
  },
  {
   "cell_type": "code",
   "execution_count": 3,
   "metadata": {
    "collapsed": true
   },
   "outputs": [],
   "source": [
    "df_all = load_df('df_all.csv')"
   ]
  },
  {
   "cell_type": "code",
   "execution_count": 34,
   "metadata": {
    "collapsed": false
   },
   "outputs": [
    {
     "data": {
      "text/plain": [
       "(1836, 17)"
      ]
     },
     "execution_count": 34,
     "metadata": {},
     "output_type": "execute_result"
    }
   ],
   "source": [
    "df_all.shape"
   ]
  },
  {
   "cell_type": "code",
   "execution_count": 35,
   "metadata": {
    "collapsed": false
   },
   "outputs": [
    {
     "data": {
      "text/html": [
       "<div>\n",
       "<table border=\"1\" class=\"dataframe\">\n",
       "  <thead>\n",
       "    <tr style=\"text-align: right;\">\n",
       "      <th></th>\n",
       "      <th>Bedrooms</th>\n",
       "      <th>Capacity</th>\n",
       "      <th>Price</th>\n",
       "      <th>Review_Count</th>\n",
       "      <th>Room_Type</th>\n",
       "      <th>Star_Rating</th>\n",
       "      <th>Avg_Price</th>\n",
       "      <th>log_Price</th>\n",
       "      <th>log_Avg_Price</th>\n",
       "      <th>log_Review_Count</th>\n",
       "      <th>Has_Star_Rating</th>\n",
       "      <th>log_Capacity</th>\n",
       "      <th>City_DA</th>\n",
       "      <th>City_DC</th>\n",
       "      <th>City_LA</th>\n",
       "      <th>City_NY</th>\n",
       "      <th>City_SF</th>\n",
       "    </tr>\n",
       "  </thead>\n",
       "  <tbody>\n",
       "    <tr>\n",
       "      <th>0</th>\n",
       "      <td>1</td>\n",
       "      <td>1</td>\n",
       "      <td>38</td>\n",
       "      <td>1</td>\n",
       "      <td>0</td>\n",
       "      <td>0.0</td>\n",
       "      <td>92.918301</td>\n",
       "      <td>3.637586</td>\n",
       "      <td>4.414075</td>\n",
       "      <td>0.000000</td>\n",
       "      <td>0</td>\n",
       "      <td>0.000000</td>\n",
       "      <td>0</td>\n",
       "      <td>0</td>\n",
       "      <td>0</td>\n",
       "      <td>1</td>\n",
       "      <td>0</td>\n",
       "    </tr>\n",
       "    <tr>\n",
       "      <th>1</th>\n",
       "      <td>1</td>\n",
       "      <td>1</td>\n",
       "      <td>61</td>\n",
       "      <td>67</td>\n",
       "      <td>1</td>\n",
       "      <td>4.5</td>\n",
       "      <td>92.918301</td>\n",
       "      <td>4.110874</td>\n",
       "      <td>4.414075</td>\n",
       "      <td>4.204693</td>\n",
       "      <td>1</td>\n",
       "      <td>0.000000</td>\n",
       "      <td>0</td>\n",
       "      <td>0</td>\n",
       "      <td>0</td>\n",
       "      <td>1</td>\n",
       "      <td>0</td>\n",
       "    </tr>\n",
       "    <tr>\n",
       "      <th>2</th>\n",
       "      <td>1</td>\n",
       "      <td>2</td>\n",
       "      <td>58</td>\n",
       "      <td>6</td>\n",
       "      <td>1</td>\n",
       "      <td>5.0</td>\n",
       "      <td>92.918301</td>\n",
       "      <td>4.060443</td>\n",
       "      <td>4.414075</td>\n",
       "      <td>1.791759</td>\n",
       "      <td>1</td>\n",
       "      <td>0.693147</td>\n",
       "      <td>0</td>\n",
       "      <td>0</td>\n",
       "      <td>0</td>\n",
       "      <td>1</td>\n",
       "      <td>0</td>\n",
       "    </tr>\n",
       "    <tr>\n",
       "      <th>3</th>\n",
       "      <td>1</td>\n",
       "      <td>2</td>\n",
       "      <td>56</td>\n",
       "      <td>36</td>\n",
       "      <td>1</td>\n",
       "      <td>5.0</td>\n",
       "      <td>92.918301</td>\n",
       "      <td>4.025352</td>\n",
       "      <td>4.414075</td>\n",
       "      <td>3.583519</td>\n",
       "      <td>1</td>\n",
       "      <td>0.693147</td>\n",
       "      <td>0</td>\n",
       "      <td>0</td>\n",
       "      <td>0</td>\n",
       "      <td>1</td>\n",
       "      <td>0</td>\n",
       "    </tr>\n",
       "    <tr>\n",
       "      <th>4</th>\n",
       "      <td>0</td>\n",
       "      <td>2</td>\n",
       "      <td>130</td>\n",
       "      <td>4</td>\n",
       "      <td>2</td>\n",
       "      <td>5.0</td>\n",
       "      <td>92.918301</td>\n",
       "      <td>4.867534</td>\n",
       "      <td>4.414075</td>\n",
       "      <td>1.386294</td>\n",
       "      <td>1</td>\n",
       "      <td>0.693147</td>\n",
       "      <td>0</td>\n",
       "      <td>0</td>\n",
       "      <td>0</td>\n",
       "      <td>1</td>\n",
       "      <td>0</td>\n",
       "    </tr>\n",
       "  </tbody>\n",
       "</table>\n",
       "</div>"
      ],
      "text/plain": [
       "   Bedrooms  Capacity  Price  Review_Count  Room_Type  Star_Rating  Avg_Price  \\\n",
       "0         1         1     38             1          0          0.0  92.918301   \n",
       "1         1         1     61            67          1          4.5  92.918301   \n",
       "2         1         2     58             6          1          5.0  92.918301   \n",
       "3         1         2     56            36          1          5.0  92.918301   \n",
       "4         0         2    130             4          2          5.0  92.918301   \n",
       "\n",
       "   log_Price  log_Avg_Price  log_Review_Count  Has_Star_Rating  log_Capacity  \\\n",
       "0   3.637586       4.414075          0.000000                0      0.000000   \n",
       "1   4.110874       4.414075          4.204693                1      0.000000   \n",
       "2   4.060443       4.414075          1.791759                1      0.693147   \n",
       "3   4.025352       4.414075          3.583519                1      0.693147   \n",
       "4   4.867534       4.414075          1.386294                1      0.693147   \n",
       "\n",
       "   City_DA  City_DC  City_LA  City_NY  City_SF  \n",
       "0        0        0        0        1        0  \n",
       "1        0        0        0        1        0  \n",
       "2        0        0        0        1        0  \n",
       "3        0        0        0        1        0  \n",
       "4        0        0        0        1        0  "
      ]
     },
     "execution_count": 35,
     "metadata": {},
     "output_type": "execute_result"
    }
   ],
   "source": [
    "df_all.head()"
   ]
  },
  {
   "cell_type": "code",
   "execution_count": 5,
   "metadata": {
    "collapsed": true
   },
   "outputs": [],
   "source": [
    "regression_features = ['log_Review_Count','Star_Rating','Has_Star_Rating','Bedrooms','log_Capacity','Room_Type',\n",
    "                       'City_NY','City_SF','City_DA','City_DC','City_LA']\n",
    "X = df_all[regression_features]\n",
    "y = df_all.log_Price\n",
    "\n",
    "# split the data into training and testing sets\n",
    "X_train, X_test, y_train, y_test = train_test_split(X, y, random_state = 123)"
   ]
  },
  {
   "cell_type": "code",
   "execution_count": 6,
   "metadata": {
    "collapsed": true
   },
   "outputs": [],
   "source": [
    "def train_model(clf, X_train, y_train):\n",
    "    \"\"\"Trains the classifier\"\"\"\n",
    "    print \"----------------------------\"\n",
    "    print \"Training {}...\".format(clf.__class__.__name__)\n",
    "    start = time.time()\n",
    "    clf.fit(X_train, y_train)\n",
    "    end = time.time()\n",
    "    print \"Done!\\nTraining time (secs): {:.3f}\".format(end - start)\n",
    "    \n",
    "    return clf"
   ]
  },
  {
   "cell_type": "code",
   "execution_count": 7,
   "metadata": {
    "collapsed": true
   },
   "outputs": [],
   "source": [
    "def model_predictions(clf, X_train, X_test):\n",
    "    \"\"\"Generate predictions from the training and testing data\"\"\"\n",
    "    train_predictions = clf.predict(X_train)\n",
    "    test_predictions = clf.predict(X_test)\n",
    "    \n",
    "    return (train_predictions, test_predictions)"
   ]
  },
  {
   "cell_type": "code",
   "execution_count": 8,
   "metadata": {
    "collapsed": true
   },
   "outputs": [],
   "source": [
    "def score_model(train_preds, test_preds, train_truth, test_truth):\n",
    "    \"\"\"Return the R-squared on the test data, and the RMSE on the train and test data\"\"\"\n",
    "    train_RMSE = np.sqrt(metrics.mean_squared_error(train_truth, train_preds))\n",
    "    test_RMSE = np.sqrt(metrics.mean_squared_error(test_truth, test_preds))\n",
    "    \n",
    "    test_rsquare = metrics.r2_score(test_truth, test_preds)\n",
    "    \n",
    "    return (train_RMSE, test_RMSE, test_rsquare)"
   ]
  },
  {
   "cell_type": "code",
   "execution_count": 9,
   "metadata": {
    "collapsed": true
   },
   "outputs": [],
   "source": [
    "def regression_model(clf, X_train, X_test, y_train, y_test):\n",
    "    \"\"\"This function:\n",
    "     - trains the model on the training\n",
    "     - makes predictions on the test set\n",
    "     - reports the r_squared and RMSE of the model\n",
    "    \"\"\"\n",
    "    clf = train_model(clf, X_train, y_train)\n",
    "    train_predictions, test_predictions = model_predictions(clf, X_train, X_test)\n",
    "    train_RMSE, test_RMSE, test_rsquare = score_model(train_predictions, test_predictions, y_train, y_test)\n",
    "    \n",
    "    print \"RMSE for training set: {}\".format(train_RMSE)\n",
    "    print \"RMSE score for test set: {}\".format(test_RMSE)\n",
    "    print \"R-Squared for test set: {}\".format(test_rsquare)\n",
    "    \n",
    "    return clf "
   ]
  },
  {
   "cell_type": "code",
   "execution_count": 10,
   "metadata": {
    "collapsed": true
   },
   "outputs": [],
   "source": [
    "lr_ridge = Ridge()\n",
    "lr_ols = LinearRegression()\n",
    "lr_lasso = Lasso()\n",
    "lr_elasticnet = ElasticNet()"
   ]
  },
  {
   "cell_type": "code",
   "execution_count": 11,
   "metadata": {
    "collapsed": false
   },
   "outputs": [
    {
     "name": "stdout",
     "output_type": "stream",
     "text": [
      "----------------------------\n",
      "Training Ridge...\n",
      "Done!\n",
      "Training time (secs): 0.016\n",
      "RMSE for training set: 0.299120258281\n",
      "RMSE score for test set: 0.307587431567\n",
      "R-Squared for test set: 0.604488303974\n"
     ]
    }
   ],
   "source": [
    "lr_ridge = regression_model(lr_ridge, X_train, X_test, y_train, y_test)"
   ]
  },
  {
   "cell_type": "code",
   "execution_count": 13,
   "metadata": {
    "collapsed": false
   },
   "outputs": [
    {
     "data": {
      "text/plain": [
       "[('log_Review_Count', 0.028749550830963966),\n",
       " ('Star_Rating', 0.16446968966852374),\n",
       " ('Has_Star_Rating', -0.84940431545876405),\n",
       " ('Bedrooms', 0.046434748476839857),\n",
       " ('log_Capacity', 0.21339652301495851),\n",
       " ('Room_Type', 0.50146715667403308),\n",
       " ('City_NY', 0.27987871019536537),\n",
       " ('City_SF', 0.49004034918077327),\n",
       " ('City_DA', 0.011829603214813246),\n",
       " ('City_DC', 0.14184689585272608),\n",
       " ('City_LA', 0.1070203604732762)]"
      ]
     },
     "execution_count": 13,
     "metadata": {},
     "output_type": "execute_result"
    }
   ],
   "source": [
    "zip(regression_features,lr_ridge.coef_)"
   ]
  },
  {
   "cell_type": "code",
   "execution_count": 14,
   "metadata": {
    "collapsed": false
   },
   "outputs": [
    {
     "name": "stdout",
     "output_type": "stream",
     "text": [
      "----------------------------\n",
      "Training LinearRegression...\n",
      "Done!\n",
      "Training time (secs): 0.110\n",
      "RMSE for training set: 0.29884203303\n",
      "RMSE score for test set: 0.308058619347\n",
      "R-Squared for test set: 0.60327562101\n"
     ]
    }
   ],
   "source": [
    "lr_ols = regression_model(lr_ols, X_train, X_test, y_train, y_test)"
   ]
  },
  {
   "cell_type": "code",
   "execution_count": 15,
   "metadata": {
    "collapsed": false
   },
   "outputs": [
    {
     "data": {
      "text/plain": [
       "[('log_Review_Count', 0.02940535069278457),\n",
       " ('Star_Rating', 0.21454280681665469),\n",
       " ('Has_Star_Rating', -1.0987599497457279),\n",
       " ('Bedrooms', 0.045926256563343329),\n",
       " ('log_Capacity', 0.21148470266927472),\n",
       " ('Room_Type', 0.5029616283056898),\n",
       " ('City_NY', 0.28899307066236102),\n",
       " ('City_SF', 0.49852215489204332),\n",
       " ('City_DA', 0.017045948298588229),\n",
       " ('City_DC', 0.15025350350503219),\n",
       " ('City_LA', 0.11404300351544711)]"
      ]
     },
     "execution_count": 15,
     "metadata": {},
     "output_type": "execute_result"
    }
   ],
   "source": [
    "zip(regression_features,lr_ols.coef_)"
   ]
  },
  {
   "cell_type": "code",
   "execution_count": 16,
   "metadata": {
    "collapsed": false
   },
   "outputs": [
    {
     "name": "stdout",
     "output_type": "stream",
     "text": [
      "----------------------------\n",
      "Training Lasso...\n",
      "Done!\n",
      "Training time (secs): 0.002\n",
      "RMSE for training set: 0.471416661391\n",
      "RMSE score for test set: 0.489695327447\n",
      "R-Squared for test set: -0.0024762210639\n"
     ]
    }
   ],
   "source": [
    "lr_lasso = regression_model(lr_lasso, X_train, X_test, y_train, y_test)"
   ]
  },
  {
   "cell_type": "code",
   "execution_count": 17,
   "metadata": {
    "collapsed": false
   },
   "outputs": [
    {
     "data": {
      "text/plain": [
       "[('log_Review_Count', 0.0),\n",
       " ('Star_Rating', 0.0),\n",
       " ('Has_Star_Rating', 0.0),\n",
       " ('Bedrooms', -0.0),\n",
       " ('log_Capacity', 0.0),\n",
       " ('Room_Type', 0.0),\n",
       " ('City_NY', 0.0),\n",
       " ('City_SF', 0.0),\n",
       " ('City_DA', -0.0),\n",
       " ('City_DC', 0.0),\n",
       " ('City_LA', -0.0)]"
      ]
     },
     "execution_count": 17,
     "metadata": {},
     "output_type": "execute_result"
    }
   ],
   "source": [
    "zip(regression_features,lr_lasso.coef_)"
   ]
  },
  {
   "cell_type": "code",
   "execution_count": null,
   "metadata": {
    "collapsed": true
   },
   "outputs": [],
   "source": [
    "lr_elasticnet = regression_model(lr_elasticnet, X_train, X_test, y_train, y_test)"
   ]
  },
  {
   "cell_type": "code",
   "execution_count": 19,
   "metadata": {
    "collapsed": false
   },
   "outputs": [
    {
     "data": {
      "text/plain": [
       "[('log_Review_Count', 0.0),\n",
       " ('Star_Rating', 0.0),\n",
       " ('Has_Star_Rating', 0.0),\n",
       " ('Bedrooms', -0.0),\n",
       " ('log_Capacity', 0.0),\n",
       " ('Room_Type', 0.0),\n",
       " ('City_NY', 0.0),\n",
       " ('City_SF', 0.0),\n",
       " ('City_DA', -0.0),\n",
       " ('City_DC', 0.0),\n",
       " ('City_LA', -0.0)]"
      ]
     },
     "execution_count": 19,
     "metadata": {},
     "output_type": "execute_result"
    }
   ],
   "source": [
    "zip(regression_features,lr_elasticnet.coef_)"
   ]
  },
  {
   "cell_type": "markdown",
   "metadata": {},
   "source": [
    "### Seems like the regularization is too high on the lasso and elastic net models since all of the coefficients are 0, let's try different reg parameters"
   ]
  },
  {
   "cell_type": "code",
   "execution_count": 29,
   "metadata": {
    "collapsed": true
   },
   "outputs": [],
   "source": [
    "alphas = [10e-7,10e-6, 10e-5, 10e-4, 10e-3, 10e-2, 10e-1, 0, 1, 10, 100, 1000, 10000, 100000] #default is 1"
   ]
  },
  {
   "cell_type": "code",
   "execution_count": 32,
   "metadata": {
    "collapsed": false
   },
   "outputs": [
    {
     "name": "stdout",
     "output_type": "stream",
     "text": [
      "Alpha: 1e-06\n",
      "----------------------------\n",
      "Training ElasticNet...\n",
      "Done!\n",
      "Training time (secs): 0.001\n",
      "RMSE for training set: 0.471416661391\n",
      "RMSE score for test set: 0.489695327447\n",
      "R-Squared for test set: -0.0024762210639\n",
      "Alpha: 1e-05\n",
      "----------------------------\n",
      "Training ElasticNet...\n",
      "Done!\n",
      "Training time (secs): 0.001\n",
      "RMSE for training set: 0.471416661391\n",
      "RMSE score for test set: 0.489695327447\n",
      "R-Squared for test set: -0.0024762210639\n",
      "Alpha: 0.0001\n",
      "----------------------------\n",
      "Training ElasticNet...\n",
      "Done!\n",
      "Training time (secs): 0.001\n",
      "RMSE for training set: 0.471416661391\n",
      "RMSE score for test set: 0.489695327447\n",
      "R-Squared for test set: -0.0024762210639\n",
      "Alpha: 0.001\n",
      "----------------------------\n",
      "Training ElasticNet...\n",
      "Done!\n",
      "Training time (secs): 0.001\n",
      "RMSE for training set: 0.471416661391\n",
      "RMSE score for test set: 0.489695327447\n",
      "R-Squared for test set: -0.0024762210639\n",
      "Alpha: 0.01\n",
      "----------------------------\n",
      "Training ElasticNet...\n",
      "Done!\n",
      "Training time (secs): 0.001\n",
      "RMSE for training set: 0.471416661391\n",
      "RMSE score for test set: 0.489695327447\n",
      "R-Squared for test set: -0.0024762210639\n",
      "Alpha: 0.1\n",
      "----------------------------\n",
      "Training ElasticNet...\n",
      "Done!\n",
      "Training time (secs): 0.001\n",
      "RMSE for training set: 0.471416661391\n",
      "RMSE score for test set: 0.489695327447\n",
      "R-Squared for test set: -0.0024762210639\n",
      "Alpha: 1.0\n",
      "----------------------------\n",
      "Training ElasticNet...\n",
      "Done!\n",
      "Training time (secs): 0.002\n",
      "RMSE for training set: 0.471416661391\n",
      "RMSE score for test set: 0.489695327447\n",
      "R-Squared for test set: -0.0024762210639\n",
      "Alpha: 0\n",
      "----------------------------\n",
      "Training ElasticNet...\n",
      "Done!\n",
      "Training time (secs): 0.001\n",
      "RMSE for training set: 0.471416661391\n",
      "RMSE score for test set: 0.489695327447\n",
      "R-Squared for test set: -0.0024762210639\n",
      "Alpha: 1\n",
      "----------------------------\n",
      "Training ElasticNet...\n",
      "Done!\n",
      "Training time (secs): 0.001\n",
      "RMSE for training set: 0.471416661391\n",
      "RMSE score for test set: 0.489695327447\n",
      "R-Squared for test set: -0.0024762210639\n",
      "Alpha: 10\n",
      "----------------------------\n",
      "Training ElasticNet...\n",
      "Done!\n",
      "Training time (secs): 0.001\n",
      "RMSE for training set: 0.471416661391\n",
      "RMSE score for test set: 0.489695327447\n",
      "R-Squared for test set: -0.0024762210639\n",
      "Alpha: 100\n",
      "----------------------------\n",
      "Training ElasticNet...\n",
      "Done!\n",
      "Training time (secs): 0.002\n",
      "RMSE for training set: 0.471416661391\n",
      "RMSE score for test set: 0.489695327447\n",
      "R-Squared for test set: -0.0024762210639\n",
      "Alpha: 1000\n",
      "----------------------------\n",
      "Training ElasticNet...\n",
      "Done!\n",
      "Training time (secs): 0.001\n",
      "RMSE for training set: 0.471416661391\n",
      "RMSE score for test set: 0.489695327447\n",
      "R-Squared for test set: -0.0024762210639\n",
      "Alpha: 10000\n",
      "----------------------------\n",
      "Training ElasticNet...\n",
      "Done!\n",
      "Training time (secs): 0.002\n",
      "RMSE for training set: 0.471416661391\n",
      "RMSE score for test set: 0.489695327447\n",
      "R-Squared for test set: -0.0024762210639\n",
      "Alpha: 100000\n",
      "----------------------------\n",
      "Training ElasticNet...\n",
      "Done!\n",
      "Training time (secs): 0.001\n",
      "RMSE for training set: 0.471416661391\n",
      "RMSE score for test set: 0.489695327447\n",
      "R-Squared for test set: -0.0024762210639\n"
     ]
    }
   ],
   "source": [
    "coefs = []\n",
    "for alpha in alphas:\n",
    "    print \"Alpha: {}\".format(alpha)\n",
    "    lr_elasticnet_cv = ElasticNet(alpha=alpha, l1_ratio = 0.01)\n",
    "    lr_elasticnet_cv = regression_model(lr_elasticnet, X_train, X_test, y_train, y_test)\n",
    "    coefs.append(zip(regression_features,lr_elasticnet_cv.coef_))  "
   ]
  },
  {
   "cell_type": "code",
   "execution_count": 33,
   "metadata": {
    "collapsed": false
   },
   "outputs": [
    {
     "data": {
      "text/plain": [
       "[[('log_Review_Count', 0.0),\n",
       "  ('Star_Rating', 0.0),\n",
       "  ('Has_Star_Rating', 0.0),\n",
       "  ('Bedrooms', -0.0),\n",
       "  ('log_Capacity', 0.0),\n",
       "  ('Room_Type', 0.0),\n",
       "  ('City_NY', 0.0),\n",
       "  ('City_SF', 0.0),\n",
       "  ('City_DA', -0.0),\n",
       "  ('City_DC', 0.0),\n",
       "  ('City_LA', -0.0)],\n",
       " [('log_Review_Count', 0.0),\n",
       "  ('Star_Rating', 0.0),\n",
       "  ('Has_Star_Rating', 0.0),\n",
       "  ('Bedrooms', -0.0),\n",
       "  ('log_Capacity', 0.0),\n",
       "  ('Room_Type', 0.0),\n",
       "  ('City_NY', 0.0),\n",
       "  ('City_SF', 0.0),\n",
       "  ('City_DA', -0.0),\n",
       "  ('City_DC', 0.0),\n",
       "  ('City_LA', -0.0)],\n",
       " [('log_Review_Count', 0.0),\n",
       "  ('Star_Rating', 0.0),\n",
       "  ('Has_Star_Rating', 0.0),\n",
       "  ('Bedrooms', -0.0),\n",
       "  ('log_Capacity', 0.0),\n",
       "  ('Room_Type', 0.0),\n",
       "  ('City_NY', 0.0),\n",
       "  ('City_SF', 0.0),\n",
       "  ('City_DA', -0.0),\n",
       "  ('City_DC', 0.0),\n",
       "  ('City_LA', -0.0)],\n",
       " [('log_Review_Count', 0.0),\n",
       "  ('Star_Rating', 0.0),\n",
       "  ('Has_Star_Rating', 0.0),\n",
       "  ('Bedrooms', -0.0),\n",
       "  ('log_Capacity', 0.0),\n",
       "  ('Room_Type', 0.0),\n",
       "  ('City_NY', 0.0),\n",
       "  ('City_SF', 0.0),\n",
       "  ('City_DA', -0.0),\n",
       "  ('City_DC', 0.0),\n",
       "  ('City_LA', -0.0)],\n",
       " [('log_Review_Count', 0.0),\n",
       "  ('Star_Rating', 0.0),\n",
       "  ('Has_Star_Rating', 0.0),\n",
       "  ('Bedrooms', -0.0),\n",
       "  ('log_Capacity', 0.0),\n",
       "  ('Room_Type', 0.0),\n",
       "  ('City_NY', 0.0),\n",
       "  ('City_SF', 0.0),\n",
       "  ('City_DA', -0.0),\n",
       "  ('City_DC', 0.0),\n",
       "  ('City_LA', -0.0)],\n",
       " [('log_Review_Count', 0.0),\n",
       "  ('Star_Rating', 0.0),\n",
       "  ('Has_Star_Rating', 0.0),\n",
       "  ('Bedrooms', -0.0),\n",
       "  ('log_Capacity', 0.0),\n",
       "  ('Room_Type', 0.0),\n",
       "  ('City_NY', 0.0),\n",
       "  ('City_SF', 0.0),\n",
       "  ('City_DA', -0.0),\n",
       "  ('City_DC', 0.0),\n",
       "  ('City_LA', -0.0)],\n",
       " [('log_Review_Count', 0.0),\n",
       "  ('Star_Rating', 0.0),\n",
       "  ('Has_Star_Rating', 0.0),\n",
       "  ('Bedrooms', -0.0),\n",
       "  ('log_Capacity', 0.0),\n",
       "  ('Room_Type', 0.0),\n",
       "  ('City_NY', 0.0),\n",
       "  ('City_SF', 0.0),\n",
       "  ('City_DA', -0.0),\n",
       "  ('City_DC', 0.0),\n",
       "  ('City_LA', -0.0)],\n",
       " [('log_Review_Count', 0.0),\n",
       "  ('Star_Rating', 0.0),\n",
       "  ('Has_Star_Rating', 0.0),\n",
       "  ('Bedrooms', -0.0),\n",
       "  ('log_Capacity', 0.0),\n",
       "  ('Room_Type', 0.0),\n",
       "  ('City_NY', 0.0),\n",
       "  ('City_SF', 0.0),\n",
       "  ('City_DA', -0.0),\n",
       "  ('City_DC', 0.0),\n",
       "  ('City_LA', -0.0)],\n",
       " [('log_Review_Count', 0.0),\n",
       "  ('Star_Rating', 0.0),\n",
       "  ('Has_Star_Rating', 0.0),\n",
       "  ('Bedrooms', -0.0),\n",
       "  ('log_Capacity', 0.0),\n",
       "  ('Room_Type', 0.0),\n",
       "  ('City_NY', 0.0),\n",
       "  ('City_SF', 0.0),\n",
       "  ('City_DA', -0.0),\n",
       "  ('City_DC', 0.0),\n",
       "  ('City_LA', -0.0)],\n",
       " [('log_Review_Count', 0.0),\n",
       "  ('Star_Rating', 0.0),\n",
       "  ('Has_Star_Rating', 0.0),\n",
       "  ('Bedrooms', -0.0),\n",
       "  ('log_Capacity', 0.0),\n",
       "  ('Room_Type', 0.0),\n",
       "  ('City_NY', 0.0),\n",
       "  ('City_SF', 0.0),\n",
       "  ('City_DA', -0.0),\n",
       "  ('City_DC', 0.0),\n",
       "  ('City_LA', -0.0)],\n",
       " [('log_Review_Count', 0.0),\n",
       "  ('Star_Rating', 0.0),\n",
       "  ('Has_Star_Rating', 0.0),\n",
       "  ('Bedrooms', -0.0),\n",
       "  ('log_Capacity', 0.0),\n",
       "  ('Room_Type', 0.0),\n",
       "  ('City_NY', 0.0),\n",
       "  ('City_SF', 0.0),\n",
       "  ('City_DA', -0.0),\n",
       "  ('City_DC', 0.0),\n",
       "  ('City_LA', -0.0)],\n",
       " [('log_Review_Count', 0.0),\n",
       "  ('Star_Rating', 0.0),\n",
       "  ('Has_Star_Rating', 0.0),\n",
       "  ('Bedrooms', -0.0),\n",
       "  ('log_Capacity', 0.0),\n",
       "  ('Room_Type', 0.0),\n",
       "  ('City_NY', 0.0),\n",
       "  ('City_SF', 0.0),\n",
       "  ('City_DA', -0.0),\n",
       "  ('City_DC', 0.0),\n",
       "  ('City_LA', -0.0)],\n",
       " [('log_Review_Count', 0.0),\n",
       "  ('Star_Rating', 0.0),\n",
       "  ('Has_Star_Rating', 0.0),\n",
       "  ('Bedrooms', -0.0),\n",
       "  ('log_Capacity', 0.0),\n",
       "  ('Room_Type', 0.0),\n",
       "  ('City_NY', 0.0),\n",
       "  ('City_SF', 0.0),\n",
       "  ('City_DA', -0.0),\n",
       "  ('City_DC', 0.0),\n",
       "  ('City_LA', -0.0)],\n",
       " [('log_Review_Count', 0.0),\n",
       "  ('Star_Rating', 0.0),\n",
       "  ('Has_Star_Rating', 0.0),\n",
       "  ('Bedrooms', -0.0),\n",
       "  ('log_Capacity', 0.0),\n",
       "  ('Room_Type', 0.0),\n",
       "  ('City_NY', 0.0),\n",
       "  ('City_SF', 0.0),\n",
       "  ('City_DA', -0.0),\n",
       "  ('City_DC', 0.0),\n",
       "  ('City_LA', -0.0)]]"
      ]
     },
     "execution_count": 33,
     "metadata": {},
     "output_type": "execute_result"
    }
   ],
   "source": [
    "coefs"
   ]
  },
  {
   "cell_type": "code",
   "execution_count": null,
   "metadata": {
    "collapsed": true
   },
   "outputs": [],
   "source": []
  },
  {
   "cell_type": "code",
   "execution_count": null,
   "metadata": {
    "collapsed": true
   },
   "outputs": [],
   "source": []
  },
  {
   "cell_type": "code",
   "execution_count": null,
   "metadata": {
    "collapsed": true
   },
   "outputs": [],
   "source": []
  }
 ],
 "metadata": {
  "kernelspec": {
   "display_name": "Python 2",
   "language": "python",
   "name": "python2"
  },
  "language_info": {
   "codemirror_mode": {
    "name": "ipython",
    "version": 2
   },
   "file_extension": ".py",
   "mimetype": "text/x-python",
   "name": "python",
   "nbconvert_exporter": "python",
   "pygments_lexer": "ipython2",
   "version": "2.7.10"
  }
 },
 "nbformat": 4,
 "nbformat_minor": 0
}
