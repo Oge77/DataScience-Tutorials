{
 "cells": [
  {
   "cell_type": "code",
   "execution_count": 1,
   "metadata": {
    "collapsed": true
   },
   "outputs": [],
   "source": [
    "# 3 layer NN\n",
    "import numpy as np"
   ]
  },
  {
   "cell_type": "code",
   "execution_count": 2,
   "metadata": {
    "collapsed": true
   },
   "outputs": [],
   "source": [
    "# sigmoid function\n",
    "def nonlin(x, deriv=False):\n",
    "    if(deriv==True):\n",
    "        return x*(1-x)\n",
    "    return 1/(1+np.exp(-x))"
   ]
  },
  {
   "cell_type": "code",
   "execution_count": 3,
   "metadata": {
    "collapsed": true
   },
   "outputs": [],
   "source": [
    "# input dataset\n",
    "X = np.array([ [0,0,1],\n",
    "                 [0,1,1],\n",
    "                 [1,0,1],\n",
    "                 [1,1,1] ])"
   ]
  },
  {
   "cell_type": "code",
   "execution_count": 4,
   "metadata": {
    "collapsed": true
   },
   "outputs": [],
   "source": [
    "# output dataset\n",
    "y = np.array([ [0,1,1,0] ]).T"
   ]
  },
  {
   "cell_type": "code",
   "execution_count": 6,
   "metadata": {
    "collapsed": false
   },
   "outputs": [
    {
     "data": {
      "text/plain": [
       "array([[-0.5910955 ],\n",
       "       [ 0.75623487],\n",
       "       [-0.94522481],\n",
       "       [ 0.34093502]])"
      ]
     },
     "execution_count": 6,
     "metadata": {},
     "output_type": "execute_result"
    }
   ],
   "source": [
    "np.random.seed(1)\n",
    "# randomly initialize weights with mean 0\n",
    "weights0 = 2*np.random.random((3,4)) - 1\n",
    "weights1 = 2*np.random.random((4,1)) - 1"
   ]
  },
  {
   "cell_type": "code",
   "execution_count": 7,
   "metadata": {
    "collapsed": false
   },
   "outputs": [
    {
     "data": {
      "text/plain": [
       "array([[-0.16595599,  0.44064899, -0.99977125, -0.39533485],\n",
       "       [-0.70648822, -0.81532281, -0.62747958, -0.30887855],\n",
       "       [-0.20646505,  0.07763347, -0.16161097,  0.370439  ]])"
      ]
     },
     "execution_count": 7,
     "metadata": {},
     "output_type": "execute_result"
    }
   ],
   "source": [
    "weights0"
   ]
  },
  {
   "cell_type": "code",
   "execution_count": 8,
   "metadata": {
    "collapsed": false
   },
   "outputs": [
    {
     "data": {
      "text/plain": [
       "array([[-0.5910955 ],\n",
       "       [ 0.75623487],\n",
       "       [-0.94522481],\n",
       "       [ 0.34093502]])"
      ]
     },
     "execution_count": 8,
     "metadata": {},
     "output_type": "execute_result"
    }
   ],
   "source": [
    "weights1"
   ]
  },
  {
   "cell_type": "code",
   "execution_count": null,
   "metadata": {
    "collapsed": true
   },
   "outputs": [],
   "source": [
    "for i in xrange(60000):\n",
    "    \n",
    "    print \"\\n\\n---------ITERATION #{}-------------\".format(i)\n",
    "    \n",
    "    # Feed forard through layers 0, 1, and 2\n",
    "    l0 = X\n",
    "    \n",
    "    print \"inputs: {}\".format(l0)\n",
    "    \n",
    "    ### Going to layer 1 predictions\n",
    "    l1_dot_product = np.dot(l0,weights0)\n",
    "    print \"l1 dot product: {}\".format(l1_dot_product)\n",
    "    \n",
    "    l1_sigmoid = nonlin(l1_dot_product)\n",
    "    print \"l1_sigmoid: {}\".format(l1_sigmoid)\n",
    "    \n",
    "    l1 = nonlin(np.dot(l0,weights0))\n",
    "    \n",
    "    ### Going to layer 2 predictions\n",
    "    \n",
    "    l2_dot_product = np.dot(l1,weights1)\n",
    "    print \"l2 dot product: {}\".format(l2_dot_product)\n",
    "    \n",
    "    l2_sigmoid = nonlin(l2_dot_product)\n",
    "    print \"l2_sigmoid: {}\".format(l2_sigmoid)\n",
    "    \n",
    "    l2 = nonlin(np.dot(l1,weights1))\n",
    "    \n",
    "    # how much did we miss the target value?\n",
    "    l2_error = y - l2\n",
    "    \n",
    "    print \"y: {}\".format(y)\n",
    "    print \"l2: {}\".format(l2)\n",
    "    print \"l2_error: {}\".format(l2_error)\n",
    "    \n",
    "    if (i% 10000) == 0:\n",
    "        print \"Error:\" + str(np.mean(np.abs(l2_error)))\n",
    "        \n",
    "    # in what direction is the target value?\n",
    "    # were we really sure? If so, don't change too much.\n",
    "    l2_delta = l2_error * nonlin(l2, deriv=True)\n",
    "    \n",
    "    # how much did each l1 value contribute to the l2 error\n",
    "    # according to the weights?\n",
    "    l1_error = l2_delta.dot(weights1.T)\n",
    "    \n",
    "    # in what direction is the target value?\n",
    "    # were we really sure? If so, don't change too much.\n",
    "    l1_delta = l1_error * nonlin(l1, deriv=True)\n",
    "    \n",
    "    weights1 += l1.T.dot(l2_delta)\n",
    "    weights0 += l0.T.dot(l1_delta)"
   ]
  }
 ],
 "metadata": {
  "kernelspec": {
   "display_name": "Python 2",
   "language": "python",
   "name": "python2"
  },
  "language_info": {
   "codemirror_mode": {
    "name": "ipython",
    "version": 2
   },
   "file_extension": ".py",
   "mimetype": "text/x-python",
   "name": "python",
   "nbconvert_exporter": "python",
   "pygments_lexer": "ipython2",
   "version": "2.7.10"
  }
 },
 "nbformat": 4,
 "nbformat_minor": 0
}
