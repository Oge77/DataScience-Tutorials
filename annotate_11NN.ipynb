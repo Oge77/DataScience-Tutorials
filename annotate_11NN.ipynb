{
 "cells": [
  {
   "cell_type": "code",
   "execution_count": 1,
   "metadata": {
    "collapsed": true
   },
   "outputs": [],
   "source": [
    "# Eleven line Neural Network (annotated version!)\n",
    "import numpy as np"
   ]
  },
  {
   "cell_type": "code",
   "execution_count": 2,
   "metadata": {
    "collapsed": true
   },
   "outputs": [],
   "source": [
    "# sigmoid function\n",
    "def nonlin(x, deriv=False):\n",
    "    if(deriv==True):\n",
    "        return x*(1-x)\n",
    "    return 1/(1+np.exp(-x))"
   ]
  },
  {
   "cell_type": "code",
   "execution_count": 3,
   "metadata": {
    "collapsed": true
   },
   "outputs": [],
   "source": [
    "# input dataset\n",
    "X = np.array([ [0,0,1],\n",
    "                 [0,1,1],\n",
    "                 [1,0,1],\n",
    "                 [1,1,1] ])"
   ]
  },
  {
   "cell_type": "code",
   "execution_count": 4,
   "metadata": {
    "collapsed": true
   },
   "outputs": [],
   "source": [
    "# output dataset\n",
    "y = np.array([ [0,0,1,1] ]).T"
   ]
  },
  {
   "cell_type": "code",
   "execution_count": 27,
   "metadata": {
    "collapsed": false
   },
   "outputs": [],
   "source": [
    "# set random seed\n",
    "np.random.seed(123)"
   ]
  },
  {
   "cell_type": "code",
   "execution_count": 28,
   "metadata": {
    "collapsed": false
   },
   "outputs": [
    {
     "data": {
      "text/plain": [
       "array([[ 0.39293837],\n",
       "       [-0.42772133],\n",
       "       [-0.54629709]])"
      ]
     },
     "execution_count": 28,
     "metadata": {},
     "output_type": "execute_result"
    }
   ],
   "source": [
    "# initialize weights randomly with mean 0\n",
    "weights = 2*np.random.random((3,1)) - 1\n",
    "weights"
   ]
  },
  {
   "cell_type": "code",
   "execution_count": 29,
   "metadata": {
    "collapsed": false
   },
   "outputs": [
    {
     "name": "stdout",
     "output_type": "stream",
     "text": [
      "\n",
      "\n",
      "---------ITERATION #0-------------\n",
      "inputs:\n",
      " [[0 0 1]\n",
      " [0 1 1]\n",
      " [1 0 1]\n",
      " [1 1 1]]\n",
      "\n",
      "weights:\n",
      " [[ 0.39293837]\n",
      " [-0.42772133]\n",
      " [-0.54629709]]\n",
      "\n",
      "dot product results:\n",
      " [[-0.54629709]\n",
      " [-0.97401842]\n",
      " [-0.15335872]\n",
      " [-0.58108005]]\n",
      "\n",
      "probability predictions (sigmoid):\n",
      " [[ 0.36672394]\n",
      " [ 0.27408027]\n",
      " [ 0.46173529]\n",
      " [ 0.35868411]]\n",
      "\n",
      "y:\n",
      " [[0]\n",
      " [0]\n",
      " [1]\n",
      " [1]]\n",
      "\n",
      " l1_error:\n",
      " [[-0.36672394]\n",
      " [-0.27408027]\n",
      " [ 0.53826471]\n",
      " [ 0.64131589]]\n",
      "\n",
      "sigmoid derivative (update weight):\n",
      " [[ 0.23223749]\n",
      " [ 0.19896028]\n",
      " [ 0.24853581]\n",
      " [ 0.23002982]]\n",
      "\n",
      "l1 delta (weighted error):\n",
      " [[-0.08516705]\n",
      " [-0.05453109]\n",
      " [ 0.13377806]\n",
      " [ 0.14752178]]\n",
      "\n",
      "transpose of input weights:\n",
      " [[0 0 1 1]\n",
      " [0 1 0 1]\n",
      " [1 1 1 1]]\n",
      "dot product of inputs and l1 delta:\n",
      " [[ 0.28129984]\n",
      " [ 0.09299069]\n",
      " [ 0.1416017 ]]\n",
      "\n"
     ]
    },
    {
     "ename": "NameError",
     "evalue": "name 'weights' is not defined",
     "output_type": "error",
     "traceback": [
      "\u001b[0;31m---------------------------------------------------------------------------\u001b[0m",
      "\u001b[0;31mNameError\u001b[0m                                 Traceback (most recent call last)",
      "\u001b[0;32m<ipython-input-29-48a94dbd2f8a>\u001b[0m in \u001b[0;36m<module>\u001b[0;34m()\u001b[0m\n\u001b[1;32m     38\u001b[0m     \u001b[0;32mprint\u001b[0m \u001b[0;34m\"dot product of inputs and l1 delta:\\n {}\\n\"\u001b[0m\u001b[0;34m.\u001b[0m\u001b[0mformat\u001b[0m\u001b[0;34m(\u001b[0m\u001b[0mdp2\u001b[0m\u001b[0;34m)\u001b[0m\u001b[0;34m\u001b[0m\u001b[0m\n\u001b[1;32m     39\u001b[0m \u001b[0;34m\u001b[0m\u001b[0m\n\u001b[0;32m---> 40\u001b[0;31m     \u001b[0;32mprint\u001b[0m \u001b[0;34m\"pre-update weights:\\n {}\\n\"\u001b[0m\u001b[0;34m.\u001b[0m\u001b[0mformat\u001b[0m\u001b[0;34m(\u001b[0m\u001b[0mweights\u001b[0m\u001b[0;34m)\u001b[0m\u001b[0;34m\u001b[0m\u001b[0m\n\u001b[0m\u001b[1;32m     41\u001b[0m \u001b[0;34m\u001b[0m\u001b[0m\n\u001b[1;32m     42\u001b[0m     \u001b[0mweights\u001b[0m \u001b[0;34m+=\u001b[0m \u001b[0mnp\u001b[0m\u001b[0;34m.\u001b[0m\u001b[0mdot\u001b[0m\u001b[0;34m(\u001b[0m\u001b[0ml0\u001b[0m\u001b[0;34m.\u001b[0m\u001b[0mT\u001b[0m\u001b[0;34m,\u001b[0m \u001b[0ml1_delta\u001b[0m\u001b[0;34m)\u001b[0m\u001b[0;34m\u001b[0m\u001b[0m\n",
      "\u001b[0;31mNameError\u001b[0m: name 'weights' is not defined"
     ]
    }
   ],
   "source": [
    "for iter in xrange(5):\n",
    "    \n",
    "    print \"\\n\\n---------ITERATION #{}-------------\".format(iter)\n",
    "    \n",
    "     # forward prop\n",
    "    l0 = X\n",
    "    print \"inputs:\\n {}\\n\".format(l0)\n",
    "    \n",
    "    dp = np.dot(l0, syn0) #ps\n",
    "    \n",
    "    print \"weights:\\n {}\\n\".format(syn0)\n",
    "    print \"dot product results:\\n {}\\n\".format(dp)\n",
    "    l1 = nonlin(dp)\n",
    "    \n",
    "    print \"probability predictions (sigmoid):\\n {}\\n\".format(l1)\n",
    "    \n",
    "    # how much did we miss?\n",
    "    l1_error = y - l1\n",
    "    \n",
    "    print \"y:\\n {}\\n\\n l1_error:\\n {}\\n\".format(y, l1_error)\n",
    "    \n",
    "    # multiply how much we missed by the \n",
    "    # slope of the sigmoid at the values in l1\n",
    "    nl = nonlin(l1,True) #ps\n",
    "    \n",
    "    print \"sigmoid derivative (update weight):\\n {}\\n\".format(nl)\n",
    "    \n",
    "    l1_delta = l1_error * nl\n",
    "    \n",
    "    print \"l1 delta (weighted error):\\n {}\\n\".format(l1_delta)\n",
    "    \n",
    "    # update weights\n",
    "    trans = l0.T #ps\n",
    "    \n",
    "    print \"transpose of input weights:\\n {}\".format(trans)\n",
    "    dp2 = np.dot(trans, l1_delta) #ps\n",
    "    \n",
    "    print \"dot product of inputs and l1 delta:\\n {}\\n\".format(dp2)\n",
    "    \n",
    "    print \"pre-update weights:\\n {}\\n\".format(weights)\n",
    "    \n",
    "    weights += np.dot(l0.T, l1_delta)\n",
    "    \n",
    "    print \"post-update weights:\\n {}\\n\".format(weights)"
   ]
  },
  {
   "cell_type": "code",
   "execution_count": 24,
   "metadata": {
    "collapsed": false
   },
   "outputs": [
    {
     "name": "stdout",
     "output_type": "stream",
     "text": [
      "Output After Trainng\n",
      "[[ 0.00964731]\n",
      " [ 0.00785112]\n",
      " [ 0.99360033]\n",
      " [ 0.99213357]]\n"
     ]
    }
   ],
   "source": [
    "print \"Output After Trainng\"\n",
    "print l1"
   ]
  },
  {
   "cell_type": "code",
   "execution_count": 9,
   "metadata": {
    "collapsed": false
   },
   "outputs": [],
   "source": [
    "np.random.random??"
   ]
  },
  {
   "cell_type": "code",
   "execution_count": 75,
   "metadata": {
    "collapsed": false
   },
   "outputs": [
    {
     "data": {
      "text/plain": [
       "(3, 4)"
      ]
     },
     "execution_count": 75,
     "metadata": {},
     "output_type": "execute_result"
    }
   ],
   "source": [
    "trans.shape"
   ]
  },
  {
   "cell_type": "code",
   "execution_count": 76,
   "metadata": {
    "collapsed": false
   },
   "outputs": [
    {
     "data": {
      "text/plain": [
       "(4, 1)"
      ]
     },
     "execution_count": 76,
     "metadata": {},
     "output_type": "execute_result"
    }
   ],
   "source": [
    "l1_delta.shape"
   ]
  }
 ],
 "metadata": {
  "kernelspec": {
   "display_name": "Python 2",
   "language": "python",
   "name": "python2"
  },
  "language_info": {
   "codemirror_mode": {
    "name": "ipython",
    "version": 2
   },
   "file_extension": ".py",
   "mimetype": "text/x-python",
   "name": "python",
   "nbconvert_exporter": "python",
   "pygments_lexer": "ipython2",
   "version": "2.7.10"
  }
 },
 "nbformat": 4,
 "nbformat_minor": 0
}
